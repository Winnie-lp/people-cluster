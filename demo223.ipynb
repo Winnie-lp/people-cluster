{
 "cells": [
  {
   "cell_type": "code",
   "execution_count": 4,
   "metadata": {},
   "outputs": [
    {
     "name": "stdout",
     "output_type": "stream",
     "text": [
      "(2097, 33)\n"
     ]
    }
   ],
   "source": [
    "import numpy as np\n",
    "import pandas as pd\n",
    "import matplotlib.pyplot as plt\n",
    "# predata = pd.read_excel('people-20210222.xlsx', sheet_name='新label')\n",
    "# predata = pd.read_excel('iR-20210224.xlsx', sheet_name='数字数据')\n",
    "data224 = pd.read_excel('iR-label-20210224.xlsx', sheet_name='数字数据')\n",
    "print(data224.shape)\n",
    "# predata.info()\n",
    "\n",
    "data=data224\n",
    "# print(dat.isnull().any().any())\n",
    "# print(dat.isnull().sum())\n",
    "# data.info()"
   ]
  },
  {
   "cell_type": "code",
   "execution_count": 109,
   "metadata": {},
   "outputs": [
    {
     "name": "stdout",
     "output_type": "stream",
     "text": [
      "(2097, 11)\n"
     ]
    }
   ],
   "source": [
    "# dat = data.loc[data.loc[(data['label']==7)].index]\n",
    "# print(dat.shape)\n",
    "\n",
    "# xdata = data[['S2','S3t1','S4','B3','B4','B5','S6','S7','S8','S11','F1',             \n",
    "#       'H2','H4','H5','E4','B1s1','B1s2','B1s3','B1s4','B1s5',\n",
    "#       'B1s6','B1s7','B1s8','B1s9','B1s10','B1s11','B1s12','B1s13','B1s14','B1s15',\n",
    "#       'B1s16','B1s17','B1s18','B1s19','B1s20', 'frequencyMI','totalValueMI','配件消费']] \n",
    "\n",
    "# print(xdata.shape)\n",
    "\n",
    "xdata2 =  data[['S2','S3t1','S4','S7','S8','F1','B3','B4','frequencyMI','totalValueMI','配件消费']]\n",
    "print(xdata2.shape)\n",
    "\n",
    "# new3=data[['frequencyMI','totalValueMI','配件消费']]\n",
    "# new3.shape\n",
    "# print(new.shape)\n",
    "# minlei.shape\n",
    "# minlei.head()\n",
    "# xlei = minlei[['S2','S3t1','S4','B3','B4','B5','S6','S7','S8','S11','F1',             \n",
    "#       'H2','H4','H5','E4','B1s1','B1s2','B1s3','B1s4','B1s5',\n",
    "#       'B1s6','B1s7','B1s8','B1s9','B1s10','B1s11','B1s12','B1s13','B1s14','B1s15',\n",
    "#       'B1s16','B1s17','B1s18','B1s19','B1s20']]\n",
    "# print(xlei.shape)"
   ]
  },
  {
   "cell_type": "code",
   "execution_count": 110,
   "metadata": {},
   "outputs": [
    {
     "name": "stdout",
     "output_type": "stream",
     "text": [
      "(2097, 11)\n"
     ]
    },
    {
     "data": {
      "text/html": [
       "<div>\n",
       "<style scoped>\n",
       "    .dataframe tbody tr th:only-of-type {\n",
       "        vertical-align: middle;\n",
       "    }\n",
       "\n",
       "    .dataframe tbody tr th {\n",
       "        vertical-align: top;\n",
       "    }\n",
       "\n",
       "    .dataframe thead th {\n",
       "        text-align: right;\n",
       "    }\n",
       "</style>\n",
       "<table border=\"1\" class=\"dataframe\">\n",
       "  <thead>\n",
       "    <tr style=\"text-align: right;\">\n",
       "      <th></th>\n",
       "      <th>S2</th>\n",
       "      <th>S3t1</th>\n",
       "      <th>S4</th>\n",
       "      <th>S7</th>\n",
       "      <th>S8</th>\n",
       "      <th>F1</th>\n",
       "      <th>B3</th>\n",
       "      <th>B4</th>\n",
       "      <th>frequencyMI</th>\n",
       "      <th>totalValueMI</th>\n",
       "      <th>配件消费</th>\n",
       "    </tr>\n",
       "  </thead>\n",
       "  <tbody>\n",
       "    <tr>\n",
       "      <th>0</th>\n",
       "      <td>1.168846</td>\n",
       "      <td>0.581693</td>\n",
       "      <td>-2.168169</td>\n",
       "      <td>1.486867</td>\n",
       "      <td>2.847030</td>\n",
       "      <td>1.007900</td>\n",
       "      <td>0.928230</td>\n",
       "      <td>0.702183</td>\n",
       "      <td>0.138318</td>\n",
       "      <td>1.501760</td>\n",
       "      <td>0.225370</td>\n",
       "    </tr>\n",
       "    <tr>\n",
       "      <th>1</th>\n",
       "      <td>1.168846</td>\n",
       "      <td>-0.051769</td>\n",
       "      <td>-0.872643</td>\n",
       "      <td>1.486867</td>\n",
       "      <td>-0.914332</td>\n",
       "      <td>1.007900</td>\n",
       "      <td>-0.081888</td>\n",
       "      <td>-2.495381</td>\n",
       "      <td>-0.567406</td>\n",
       "      <td>0.192391</td>\n",
       "      <td>0.044091</td>\n",
       "    </tr>\n",
       "    <tr>\n",
       "      <th>2</th>\n",
       "      <td>1.168846</td>\n",
       "      <td>0.977608</td>\n",
       "      <td>-1.520406</td>\n",
       "      <td>1.486867</td>\n",
       "      <td>-0.914332</td>\n",
       "      <td>-0.991689</td>\n",
       "      <td>-2.102126</td>\n",
       "      <td>0.702183</td>\n",
       "      <td>-0.567406</td>\n",
       "      <td>-0.542132</td>\n",
       "      <td>-0.245955</td>\n",
       "    </tr>\n",
       "    <tr>\n",
       "      <th>3</th>\n",
       "      <td>1.168846</td>\n",
       "      <td>0.027414</td>\n",
       "      <td>-0.872643</td>\n",
       "      <td>-0.788020</td>\n",
       "      <td>0.026008</td>\n",
       "      <td>1.007900</td>\n",
       "      <td>-1.092007</td>\n",
       "      <td>-1.695990</td>\n",
       "      <td>-0.567406</td>\n",
       "      <td>-0.255349</td>\n",
       "      <td>-0.300338</td>\n",
       "    </tr>\n",
       "    <tr>\n",
       "      <th>4</th>\n",
       "      <td>-0.848495</td>\n",
       "      <td>-0.130952</td>\n",
       "      <td>0.422884</td>\n",
       "      <td>-0.333043</td>\n",
       "      <td>0.026008</td>\n",
       "      <td>1.007900</td>\n",
       "      <td>-0.081888</td>\n",
       "      <td>-0.097208</td>\n",
       "      <td>0.138318</td>\n",
       "      <td>0.042293</td>\n",
       "      <td>2.581992</td>\n",
       "    </tr>\n",
       "  </tbody>\n",
       "</table>\n",
       "</div>"
      ],
      "text/plain": [
       "         S2      S3t1        S4        S7        S8        F1        B3  \\\n",
       "0  1.168846  0.581693 -2.168169  1.486867  2.847030  1.007900  0.928230   \n",
       "1  1.168846 -0.051769 -0.872643  1.486867 -0.914332  1.007900 -0.081888   \n",
       "2  1.168846  0.977608 -1.520406  1.486867 -0.914332 -0.991689 -2.102126   \n",
       "3  1.168846  0.027414 -0.872643 -0.788020  0.026008  1.007900 -1.092007   \n",
       "4 -0.848495 -0.130952  0.422884 -0.333043  0.026008  1.007900 -0.081888   \n",
       "\n",
       "         B4  frequencyMI  totalValueMI      配件消费  \n",
       "0  0.702183     0.138318      1.501760  0.225370  \n",
       "1 -2.495381    -0.567406      0.192391  0.044091  \n",
       "2  0.702183    -0.567406     -0.542132 -0.245955  \n",
       "3 -1.695990    -0.567406     -0.255349 -0.300338  \n",
       "4 -0.097208     0.138318      0.042293  2.581992  "
      ]
     },
     "execution_count": 110,
     "metadata": {},
     "output_type": "execute_result"
    }
   ],
   "source": [
    "#对xdata进行标准化处理\n",
    "s_raw = xdata2.apply(lambda x:(x-x.mean())/x.std())\n",
    "print(s_raw.shape)\n",
    "s_raw.head()"
   ]
  },
  {
   "cell_type": "code",
   "execution_count": 111,
   "metadata": {},
   "outputs": [
    {
     "data": {
      "image/png": "[encoded data removed]",
      "text/plain": [
       "<Figure size 576x432 with 1 Axes>"
      ]
     },
     "metadata": {
      "needs_background": "light"
     },
     "output_type": "display_data"
    }
   ],
   "source": [
    "import pandas as pd\n",
    "from sklearn.cluster import KMeans\n",
    "import matplotlib.pyplot as plt\n",
    "\n",
    "SSE = []  # 存放每次结果的误差平方和\n",
    "for k in range(1,15):\n",
    "    estimator = KMeans(n_clusters=k,random_state=122)  # 构造聚类器\n",
    "    estimator.fit(s_raw)\n",
    "    SSE.append(estimator.inertia_)\n",
    "X = range(1,15)\n",
    "plt.figure(figsize=(8,6))\n",
    "plt.xlabel('k')\n",
    "plt.ylabel('SSE')\n",
    "plt.title('no value-k-SSE') \n",
    "plt.plot(X,SSE,'o-')\n",
    "# plt.savefig('SSE(no value).png')\n",
    "plt.show()"
   ]
  },
  {
   "cell_type": "code",
   "execution_count": 113,
   "metadata": {},
   "outputs": [
    {
     "data": {
      "image/png": "[encoded data removed]",
      "text/plain": [
       "<Figure size 576x432 with 1 Axes>"
      ]
     },
     "metadata": {
      "needs_background": "light"
     },
     "output_type": "display_data"
    }
   ],
   "source": [
    "from sklearn.metrics import silhouette_score\n",
    "import matplotlib.pyplot as plt\n",
    "plt.rcParams['font.sans-serif'] = ['SimHei'] #用来正常显示中文标签\n",
    "plt.rcParams['axes.unicode_minus'] = False #用来正常显示负号\n",
    "\n",
    "Scores = []  # 存放轮廓系数\n",
    "for k in range(2,15):\n",
    "    estimator = KMeans(n_clusters=k,random_state=555)  # 构造聚类器 666\n",
    "    estimator.fit(s_raw)\n",
    "    Scores.append(silhouette_score(s_raw,estimator.labels_,metric='euclidean'))\n",
    "X = range(2,15)\n",
    "plt.figure(figsize=(8,6))\n",
    "plt.xlabel('k')\n",
    "plt.ylabel('轮廓系数')\n",
    "plt.title('K-轮廓系数图(no value)') \n",
    "plt.plot(X,Scores,'o-')\n",
    "# plt.savefig('no value-轮廓系数.png')\n",
    "plt.show()\n",
    "\n",
    "## k==2分成2类"
   ]
  },
  {
   "cell_type": "code",
   "execution_count": 114,
   "metadata": {},
   "outputs": [
    {
     "name": "stdout",
     "output_type": "stream",
     "text": [
      "         0         1         2         3         4         5         6   \\\n",
      "0 -0.012037 -0.745377 -0.705623 -0.375845 -0.422865  0.346015 -0.388092   \n",
      "1  0.567183  1.051234  0.583878  0.462503  0.837121 -0.512256 -0.016910   \n",
      "2 -0.538857 -0.142737  0.466570  0.046811 -0.452909 -0.991689  0.488946   \n",
      "3  0.620579 -0.068599 -1.247307  0.857508 -0.069009 -0.267100 -1.222231   \n",
      "4  0.354391 -0.150625  0.141248 -0.149356 -0.359473  0.461428  0.639625   \n",
      "5 -0.544513 -0.115947  0.368164 -0.395368 -0.128568  1.007900  0.388578   \n",
      "6 -0.114917 -0.393695 -0.048216 -0.250319 -0.144963 -0.809908 -0.081888   \n",
      "7 -0.013734 -0.103647  0.210686  0.121935 -0.476587  0.180483  0.196765   \n",
      "8  0.664510  0.349644 -0.485784 -1.679018  2.703367  0.980127 -0.348448   \n",
      "\n",
      "         7         8         9         10   0   \n",
      "0 -1.576221 -0.274789 -0.210648 -0.058486  287  \n",
      "1 -0.485216 -0.214544 -0.391786 -0.226608  355  \n",
      "2  0.592499 -0.162025 -0.116722  0.078914  428  \n",
      "3  0.276027 -0.188725 -0.201065  0.073525  271  \n",
      "4  0.136155  2.777111  0.974335 -0.120636  164  \n",
      "5  0.483172 -0.448174 -0.265201 -0.213300  443  \n",
      "6 -0.242552  0.651571  1.142279  7.188610   23  \n",
      "7  0.481662  0.454677  4.267082  0.154296   53  \n",
      "8  0.391309 -0.214544 -0.152613 -0.208339   73  \n",
      "         S2      S3t1        S4        S7        S8        F1        B3  \\\n",
      "0 -0.012037 -0.745377 -0.705623 -0.375845 -0.422865  0.346015 -0.388092   \n",
      "1  0.567183  1.051234  0.583878  0.462503  0.837121 -0.512256 -0.016910   \n",
      "2 -0.538857 -0.142737  0.466570  0.046811 -0.452909 -0.991689  0.488946   \n",
      "3  0.620579 -0.068599 -1.247307  0.857508 -0.069009 -0.267100 -1.222231   \n",
      "4  0.354391 -0.150625  0.141248 -0.149356 -0.359473  0.461428  0.639625   \n",
      "5 -0.544513 -0.115947  0.368164 -0.395368 -0.128568  1.007900  0.388578   \n",
      "6 -0.114917 -0.393695 -0.048216 -0.250319 -0.144963 -0.809908 -0.081888   \n",
      "7 -0.013734 -0.103647  0.210686  0.121935 -0.476587  0.180483  0.196765   \n",
      "8  0.664510  0.349644 -0.485784 -1.679018  2.703367  0.980127 -0.348448   \n",
      "\n",
      "         B4  frequencyMI  totalValueMI      配件消费  类别数目  \n",
      "0 -1.576221    -0.274789     -0.210648 -0.058486   287  \n",
      "1 -0.485216    -0.214544     -0.391786 -0.226608   355  \n",
      "2  0.592499    -0.162025     -0.116722  0.078914   428  \n",
      "3  0.276027    -0.188725     -0.201065  0.073525   271  \n",
      "4  0.136155     2.777111      0.974335 -0.120636   164  \n",
      "5  0.483172    -0.448174     -0.265201 -0.213300   443  \n",
      "6 -0.242552     0.651571      1.142279  7.188610    23  \n",
      "7  0.481662     0.454677      4.267082  0.154296    53  \n",
      "8  0.391309    -0.214544     -0.152613 -0.208339    73  \n",
      "      S2  S3t1  S4  S7  S8  F1  B3  B4  frequencyMI  totalValueMI  配件消费  聚类类别\n",
      "0      2    48   2   8   5   2   5   5            2          3250   150     8\n",
      "1      2    40   4   8   1   2   4   1            1          1200   100     0\n",
      "2      2    53   3   8   1   1   2   5            1            50    20     3\n",
      "3      2    41   4   3   2   2   3   2            1           499     5     0\n",
      "4      1    39   6   4   2   2   4   4            2           965   800     5\n",
      "...   ..   ...  ..  ..  ..  ..  ..  ..          ...           ...   ...   ...\n",
      "2092   2    28   6   4   2   2   5   3            1           225     0     0\n",
      "2093   1    40   7   3   1   1   5   5            1           400   100     2\n",
      "2094   2    49   7   5   3   1   4   3            2           231    12     1\n",
      "2095   2    59   7   6   2   1   5   5            1           145    15     1\n",
      "2096   1    45   6   5   1   1   5   5            2           160    25     2\n",
      "\n",
      "[2097 rows x 12 columns]\n"
     ]
    }
   ],
   "source": [
    "import pandas as pd\n",
    "#参数初始化\n",
    "k = 9 #聚类的类别\n",
    "iteration = 3 #聚类最大循环次数\n",
    "\n",
    "from sklearn.cluster import KMeans\n",
    "model = KMeans(n_clusters = k, max_iter = iteration, random_state=555) #分为k类\n",
    "#model = KMeans(n_clusters = k, n_jobs = 4, max_iter = iteration) #分为k类，并发数4\n",
    "model.fit(s_raw) #开始聚类\n",
    "\n",
    "#简单打印结果\n",
    "r1 = pd.Series(model.labels_).value_counts() #统计各个类别的数目\n",
    "r2 = pd.DataFrame(model.cluster_centers_) #找出聚类中心\n",
    "r = pd.concat([r2, r1], axis = 1) #横向连接（0是纵向），得到聚类中心对应的类别下的数目\n",
    "print(r)\n",
    "r.columns = list(s_raw.columns) + [u'类别数目'] #重命名表头\n",
    "print(r)\n",
    "\n",
    "#详细输出原始数据及其类别\n",
    "r = pd.concat([xdata2, pd.Series(model.labels_, index =xdata.index)], axis = 1)  #详细输出每个样本对应的类别\n",
    "r.columns = list(xdata2.columns) + [u'聚类类别'] #重命名表头\n",
    "# r.to_excel(outputfile) #保存结果\n",
    "print(r)"
   ]
  },
  {
   "cell_type": "code",
   "execution_count": 118,
   "metadata": {},
   "outputs": [
    {
     "data": {
      "image/png": "[encoded data removed]",
      "text/plain": [
       "<Figure size 432x288 with 1 Axes>"
      ]
     },
     "metadata": {
      "needs_background": "light"
     },
     "output_type": "display_data"
    }
   ],
   "source": [
    "#用TSNE进行数据降维并展示聚类结果\n",
    "from sklearn.manifold import TSNE\n",
    "tsne = TSNE()\n",
    "tsne.fit_transform(s_raw) #进行数据降维,并返回结果\n",
    "tsne = pd.DataFrame(tsne.embedding_, index = s_raw.index) #转换数据格式\n",
    "\n",
    "import matplotlib.pyplot as plt\n",
    "plt.rcParams['font.sans-serif'] = ['SimHei'] #用来正常显示中文标签\n",
    "plt.rcParams['axes.unicode_minus'] = False #用来正常显示负号\n",
    "\n",
    "#不同类别用不同颜色和样式绘图\n",
    "d = tsne[r[u'聚类类别'] == 0]     #找出聚类类别为0的数据对应的降维结果\n",
    "plt.plot(d[0], d[1], 'r*')\n",
    "d = tsne[r[u'聚类类别'] == 1]\n",
    "plt.plot(d[0], d[1], 'go')\n",
    "d = tsne[r[u'聚类类别'] == 2]\n",
    "plt.plot(d[0], d[1], 'b*')\n",
    "d = tsne[r[u'聚类类别'] == 3]\n",
    "plt.plot(d[0], d[1], 'mo') \n",
    "d = tsne[r[u'聚类类别'] == 4]\n",
    "plt.plot(d[0], d[1], 'yo')\n",
    "d = tsne[r[u'聚类类别'] == 5]\n",
    "plt.plot(d[0], d[1], 'k*')\n",
    "d = tsne[r[u'聚类类别'] == 6]\n",
    "plt.plot(d[0], d[1], 'c*')\n",
    "d = tsne[r[u'聚类类别'] == 7]\n",
    "plt.plot(d[0], d[1], 'ko')\n",
    "d = tsne[r[u'聚类类别'] == 8]\n",
    "plt.plot(d[0], d[1], 'm*')\n",
    "d = tsne[r[u'聚类类别'] == 9]\n",
    "plt.plot(d[0], d[1], 'kD')\n",
    "d = tsne[r[u'聚类类别'] == 10]\n",
    "plt.plot(d[0], d[1], 'y8')\n",
    "d = tsne[r[u'聚类类别'] == 11]\n",
    "plt.plot(d[0], d[1], 'c*')\n",
    "\n",
    "plt.savefig('224-9类.png')\n",
    "plt.show()"
   ]
  },
  {
   "cell_type": "code",
   "execution_count": 8,
   "metadata": {},
   "outputs": [
    {
     "name": "stdout",
     "output_type": "stream",
     "text": [
      "<class 'pandas.core.frame.DataFrame'>\n",
      "RangeIndex: 2097 entries, 0 to 2096\n",
      "Data columns (total 33 columns):\n",
      " #   Column        Non-Null Count  Dtype\n",
      "---  ------        --------------  -----\n",
      " 0   NO            2097 non-null   int64\n",
      " 1   S2            2097 non-null   int64\n",
      " 2   S3t1          2097 non-null   int64\n",
      " 3   S4            2097 non-null   int64\n",
      " 4   S7            2097 non-null   int64\n",
      " 5   S8            2097 non-null   int64\n",
      " 6   F1            2097 non-null   int64\n",
      " 7   B3            2097 non-null   int64\n",
      " 8   B4            2097 non-null   int64\n",
      " 9   frequencyMI   2097 non-null   int64\n",
      " 10  totalValueMI  2097 non-null   int64\n",
      " 11  配件消费          2097 non-null   int64\n",
      " 12  B1s1          2097 non-null   int64\n",
      " 13  B1s2          2097 non-null   int64\n",
      " 14  B1s3          2097 non-null   int64\n",
      " 15  B1s4          2097 non-null   int64\n",
      " 16  B1s5          2097 non-null   int64\n",
      " 17  B1s6          2097 non-null   int64\n",
      " 18  B1s7          2097 non-null   int64\n",
      " 19  B1s8          2097 non-null   int64\n",
      " 20  B1s9          2097 non-null   int64\n",
      " 21  B1s10         2097 non-null   int64\n",
      " 22  B1s11         2097 non-null   int64\n",
      " 23  B1s12         2097 non-null   int64\n",
      " 24  B1s13         2097 non-null   int64\n",
      " 25  B1s14         2097 non-null   int64\n",
      " 26  B1s15         2097 non-null   int64\n",
      " 27  B1s16         2097 non-null   int64\n",
      " 28  B1s17         2097 non-null   int64\n",
      " 29  B1s18         2097 non-null   int64\n",
      " 30  B1s19         2097 non-null   int64\n",
      " 31  B1s20         2097 non-null   int64\n",
      " 32  label         2097 non-null   int64\n",
      "dtypes: int64(33)\n",
      "memory usage: 540.8 KB\n"
     ]
    }
   ],
   "source": [
    "data.info()"
   ]
  },
  {
   "cell_type": "code",
   "execution_count": 50,
   "metadata": {},
   "outputs": [],
   "source": [
    "## 决策树\n",
    "redata = data[['S2','S3t1','S4','S7','S8','F1','B3','B4','label']]\n",
    "#'B1s1','B1s2','B1s3','B1s4','B1s5','B1s6',\n",
    "#                'B1s7','B1s8','B1s9','B1s10','B1s11','B1s12','B1s13','B1s14','B1s15','B1s16','B1s17','B1s18','B1s19','B1s20',"
   ]
  },
  {
   "cell_type": "code",
   "execution_count": 51,
   "metadata": {},
   "outputs": [
    {
     "name": "stdout",
     "output_type": "stream",
     "text": [
      "(2097, 8)\n",
      "(2097,)\n",
      "(1677, 8)\n",
      "(420, 8)\n"
     ]
    }
   ],
   "source": [
    "X = redata.drop(['label'],axis=1)\n",
    "Y = redata['label']\n",
    "from sklearn.model_selection import train_test_split\n",
    "from sklearn.tree import DecisionTreeClassifier\n",
    "Xtrain, Xtest, Ytrain, Ytest = train_test_split(X, Y, test_size=0.2)\n",
    "print(X.shape)\n",
    "print(Y.shape)\n",
    "print(Xtrain.shape)\n",
    "print(Xtest.shape)"
   ]
  },
  {
   "cell_type": "code",
   "execution_count": 56,
   "metadata": {},
   "outputs": [
    {
     "name": "stdout",
     "output_type": "stream",
     "text": [
      "准确率为: 0.38571428571428573\n",
      "[6 6 0 6 6 0 5 0 6 6]\n"
     ]
    }
   ],
   "source": [
    "clf = DecisionTreeClassifier(random_state=8, class_weight='balanced') # 初始化\n",
    "clf = clf.fit(Xtrain,Ytrain) # 拟合\n",
    "\n",
    "# 分类准确率\n",
    "score_ = clf.score(Xtest, Ytest) # 验证集查看得分\n",
    "print('准确率为:', score_)\n",
    "\n",
    "# 可以输入数据送到训练好的模型里，输出预测的类\n",
    "y_pred = clf.predict(Xtest)\n",
    "print(y_pred[:10])\n",
    "\n",
    "#看特征变量的使用情况\n",
    "# [*zip(feature_name,clf.feature_importances_)]"
   ]
  },
  {
   "cell_type": "code",
   "execution_count": 63,
   "metadata": {},
   "outputs": [
    {
     "name": "stdout",
     "output_type": "stream",
     "text": [
      "0.32147186147186146\n"
     ]
    }
   ],
   "source": [
    "#生成决策树\n",
    "from sklearn.tree import DecisionTreeClassifier\n",
    "#设置最大叶子数为8\n",
    "dtModel = DecisionTreeClassifier(random_state=8,class_weight='balanced', max_leaf_nodes=12) \n",
    "\n",
    "#模型检验－交叉验证法\n",
    "from sklearn.model_selection import cross_val_score\n",
    "print(cross_val_score(dtModel,X,Y,cv=10).mean())\n",
    "\n",
    "#训练模型\n",
    "dtModel=dtModel.fit(X, Y) "
   ]
  },
  {
   "cell_type": "code",
   "execution_count": 64,
   "metadata": {},
   "outputs": [
    {
     "data": {
      "text/plain": [
       "True"
      ]
     },
     "execution_count": 64,
     "metadata": {},
     "output_type": "execute_result"
    }
   ],
   "source": [
    "# tree模型可视化\n",
    "import re\n",
    "import pydotplus\n",
    "from six import StringIO  #生成StringIO对象\n",
    "from sklearn.tree import export_graphviz\n",
    "# dot_data = StringIO() #把文件暂时写在内存的对象中\n",
    "plt.rcParams['font.sans-serif'] = ['SimHei'] #用来正常显示中文标签\n",
    "plt.rcParams['axes.unicode_minus'] = False #用来正常显示负号\n",
    "\n",
    "dot_data = export_graphviz(\n",
    "    dtModel,\n",
    "    out_file=None,\n",
    "    class_names=['0','1','2','3','4','5','6','7'],\n",
    "#     feature_names=['性别', '年龄', '家庭年收入', '教育水平', '种族', '宗教信仰', '上次为谁购买', '第一次演奏乐器时间', '使用乐器频率', '哪一年购买乐器',\n",
    "#        '是否可以演奏多种乐器', '上次在哪里购买', '购物思考时间', '购物方式', '音乐APP', '质量','定制化','新潮','简约','传统','归属感','刺激','自然',\n",
    "#         '服务','自由自在','激情','高尚','科技','活力','进取','明智购物','个人效率','古典','安逸','全面成本','乐器的总购买数量','乐器的总购买金额','配件金额'],\n",
    "    \n",
    "    feature_names=['性别', '年龄', '家庭年收入', '第一次演奏乐器时间', '当前弹奏情况', '是否可以演奏多种乐器', '教育水平', '种族'],\n",
    "#               'S2','S3t1','S4','S7','S8','F1','B3','B4','frequencyMI','totalValueMI','配件消费'\n",
    "    \n",
    "#     feature_names=['乐器的总购买数量','乐器的总购买金额','配件金额'],\n",
    "#     feature_names=['S2','S3t1','S4','B2','B3','B4','B5','S6','S7','S8','S11','F1',\n",
    "#       'H2','H4','H5','E1','E4','E6','U1','U3','B1s1','B1s2','B1s3','B1s4','B1s5',\n",
    "#       'B1s6','B1s7','B1s8','B1s9','B1s10','B1s11','B1s12','B1s13','B1s14','B1s15',\n",
    "#       'B1s16','B1s17','B1s18','B1s19','B1s20','totalValueTTL'],\n",
    "    filled=True,rounded=True,special_characters=True\n",
    ")\n",
    "\n",
    "with open(\"dot_data.dot\", 'w+', encoding=\"utf-8-sig\") as f:  # 注意编码方式\n",
    "    f.writelines(dot_data)\n",
    "    \n",
    "# 打开 dot_data.dot，修改 fontname=\"支持的中文字体\"\n",
    "f = open(\"dot_data.dot\",  encoding=\"utf-8-sig\")\n",
    "open('dot_test.dot', 'w+', encoding=\"utf-8-sig\").write(re.sub(r'fontname=helvetica', 'fontname=\"Microsoft YaHei\"', f.read()))\n",
    "\n",
    "with open(\"dot_test.dot\",  encoding=\"utf-8-sig\") as fp:\n",
    "    dot_test = fp.read()\n",
    "    \n",
    "graph = pydotplus.graph_from_dot_data(dot_test)  #.getvalue()\n",
    "graph.write_pdf('224-8-无价值观.pdf')"
   ]
  },
  {
   "cell_type": "code",
   "execution_count": 136,
   "metadata": {},
   "outputs": [
    {
     "name": "stdout",
     "output_type": "stream",
     "text": [
      "       label      rate\n",
      "label                 \n",
      "0        287  0.136862\n",
      "1        355  0.169289\n",
      "2        428  0.204101\n",
      "3        271  0.129232\n",
      "4        164  0.078207\n",
      "5        443  0.211254\n",
      "6         23  0.010968\n",
      "7         53  0.025274\n",
      "8         73  0.034812\n"
     ]
    }
   ],
   "source": [
    "data[\"label\"]=r['聚类类别']\n",
    "result_avg=data.groupby(\"label\").mean()\n",
    "result_avg=result_avg.join(data.label.value_counts())\n",
    "result_avg[\"rate\"]=result_avg[\"label\"]/sum(result_avg[\"label\"])\n",
    "print(result_avg[['label','rate']])"
   ]
  },
  {
   "cell_type": "code",
   "execution_count": null,
   "metadata": {},
   "outputs": [],
   "source": [
    "data.to_csv('去除价值观+去除职业决策树.csv')"
   ]
  },
  {
   "cell_type": "code",
   "execution_count": null,
   "metadata": {},
   "outputs": [],
   "source": [
    "data.head()"
   ]
  }
 ],
 "metadata": {
  "kernelspec": {
   "display_name": "Python 3",
   "language": "python",
   "name": "python3"
  },
  "language_info": {
   "codemirror_mode": {
    "name": "ipython",
    "version": 3
   },
   "file_extension": ".py",
   "mimetype": "text/x-python",
   "name": "python",
   "nbconvert_exporter": "python",
   "pygments_lexer": "ipython3",
   "version": "3.8.3"
  }
 },
 "nbformat": 4,
 "nbformat_minor": 4
}
